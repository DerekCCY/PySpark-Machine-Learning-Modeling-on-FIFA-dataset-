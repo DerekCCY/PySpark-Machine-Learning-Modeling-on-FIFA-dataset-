{
 "cells": [
  {
   "cell_type": "markdown",
   "metadata": {},
   "source": [
    "# Group project\n",
    "\n"
   ]
  },
  {
   "cell_type": "markdown",
   "metadata": {},
   "source": [
    "## Task1"
   ]
  },
  {
   "cell_type": "code",
   "execution_count": 3,
   "metadata": {},
   "outputs": [],
   "source": [
    "import pyspark\n",
    "from pyspark.sql import SparkSession\n",
    "from pyspark import SparkContext, SQLContext\n",
    "from pyspark.sql import functions as F\n",
    "\n",
    "import os             "
   ]
  },
  {
   "cell_type": "code",
   "execution_count": 4,
   "metadata": {},
   "outputs": [
    {
     "name": "stderr",
     "output_type": "stream",
     "text": [
      "24/10/10 22:18:53 WARN Utils: Your hostname, ccydeMacBook-Air.local resolves to a loopback address: 127.0.0.1; using 10.0.0.146 instead (on interface en0)\n",
      "24/10/10 22:18:53 WARN Utils: Set SPARK_LOCAL_IP if you need to bind to another address\n",
      "24/10/10 22:18:53 WARN NativeCodeLoader: Unable to load native-hadoop library for your platform... using builtin-java classes where applicable\n",
      "Setting default log level to \"WARN\".\n",
      "To adjust logging level use sc.setLogLevel(newLevel). For SparkR, use setLogLevel(newLevel).\n"
     ]
    }
   ],
   "source": [
    "# Initialize Spark session      \n",
    "spark = SparkSession.builder \\\n",
    "    .appName(\"group_project_option1\") \\\n",
    "    .config(\"spark.jars\", \"/opt/homebrew/Cellar/apache-spark/3.5.3/libexec/jars/postgresql-42.7.3.jar\") \\\n",
    "    .getOrCreate()  "
   ]
  },
  {
   "cell_type": "markdown",
   "metadata": {},
   "source": [
    "#### Combine all the data together and add a year column"
   ]
  },
  {
   "cell_type": "code",
   "execution_count": 5,
   "metadata": {},
   "outputs": [],
   "source": [
    "def get_the_year(file):\n",
    "    year_suffix = os.path.basename(file).split('_')[-1][0:2]\n",
    "    year = 2000 + int(year_suffix)\n",
    "    return year"
   ]
  },
  {
   "cell_type": "markdown",
   "metadata": {},
   "source": [
    "#### Add a gender column since we would only select male players in Task 2"
   ]
  },
  {
   "cell_type": "code",
   "execution_count": 6,
   "metadata": {},
   "outputs": [],
   "source": [
    "def get_the_gender(file):\n",
    "    gender_suffix = os.path.basename(file).split('_')[0]\n",
    "    #print(gender_suffix)\n",
    "    if gender_suffix == 'female':\n",
    "        return 'F'\n",
    "    else:\n",
    "        return 'M'"
   ]
  },
  {
   "cell_type": "code",
   "execution_count": 7,
   "metadata": {},
   "outputs": [
    {
     "name": "stderr",
     "output_type": "stream",
     "text": [
      "                                                                                \r"
     ]
    },
    {
     "name": "stdout",
     "output_type": "stream",
     "text": [
      "root\n",
      " |-- sofifa_id: integer (nullable = true)\n",
      " |-- player_url: string (nullable = true)\n",
      " |-- short_name: string (nullable = true)\n",
      " |-- long_name: string (nullable = true)\n",
      " |-- player_positions: string (nullable = true)\n",
      " |-- overall: integer (nullable = true)\n",
      " |-- potential: integer (nullable = true)\n",
      " |-- value_eur: string (nullable = true)\n",
      " |-- wage_eur: string (nullable = true)\n",
      " |-- age: integer (nullable = true)\n",
      " |-- dob: date (nullable = true)\n",
      " |-- height_cm: integer (nullable = true)\n",
      " |-- weight_kg: integer (nullable = true)\n",
      " |-- club_team_id: string (nullable = true)\n",
      " |-- club_name: string (nullable = true)\n",
      " |-- league_name: string (nullable = true)\n",
      " |-- league_level: string (nullable = true)\n",
      " |-- club_position: string (nullable = true)\n",
      " |-- club_jersey_number: string (nullable = true)\n",
      " |-- club_loaned_from: string (nullable = true)\n",
      " |-- club_joined: string (nullable = true)\n",
      " |-- club_contract_valid_until: string (nullable = true)\n",
      " |-- nationality_id: integer (nullable = true)\n",
      " |-- nationality_name: string (nullable = true)\n",
      " |-- nation_team_id: double (nullable = true)\n",
      " |-- nation_position: string (nullable = true)\n",
      " |-- nation_jersey_number: integer (nullable = true)\n",
      " |-- preferred_foot: string (nullable = true)\n",
      " |-- weak_foot: integer (nullable = true)\n",
      " |-- skill_moves: integer (nullable = true)\n",
      " |-- international_reputation: integer (nullable = true)\n",
      " |-- work_rate: string (nullable = true)\n",
      " |-- body_type: string (nullable = true)\n",
      " |-- real_face: string (nullable = true)\n",
      " |-- release_clause_eur: string (nullable = true)\n",
      " |-- player_tags: string (nullable = true)\n",
      " |-- player_traits: string (nullable = true)\n",
      " |-- pace: integer (nullable = true)\n",
      " |-- shooting: integer (nullable = true)\n",
      " |-- passing: integer (nullable = true)\n",
      " |-- dribbling: integer (nullable = true)\n",
      " |-- defending: integer (nullable = true)\n",
      " |-- physic: integer (nullable = true)\n",
      " |-- attacking_crossing: integer (nullable = true)\n",
      " |-- attacking_finishing: integer (nullable = true)\n",
      " |-- attacking_heading_accuracy: integer (nullable = true)\n",
      " |-- attacking_short_passing: integer (nullable = true)\n",
      " |-- attacking_volleys: integer (nullable = true)\n",
      " |-- skill_dribbling: integer (nullable = true)\n",
      " |-- skill_curve: integer (nullable = true)\n",
      " |-- skill_fk_accuracy: integer (nullable = true)\n",
      " |-- skill_long_passing: integer (nullable = true)\n",
      " |-- skill_ball_control: integer (nullable = true)\n",
      " |-- movement_acceleration: integer (nullable = true)\n",
      " |-- movement_sprint_speed: integer (nullable = true)\n",
      " |-- movement_agility: integer (nullable = true)\n",
      " |-- movement_reactions: integer (nullable = true)\n",
      " |-- movement_balance: integer (nullable = true)\n",
      " |-- power_shot_power: integer (nullable = true)\n",
      " |-- power_jumping: integer (nullable = true)\n",
      " |-- power_stamina: integer (nullable = true)\n",
      " |-- power_strength: integer (nullable = true)\n",
      " |-- power_long_shots: integer (nullable = true)\n",
      " |-- mentality_aggression: integer (nullable = true)\n",
      " |-- mentality_interceptions: integer (nullable = true)\n",
      " |-- mentality_positioning: integer (nullable = true)\n",
      " |-- mentality_vision: integer (nullable = true)\n",
      " |-- mentality_penalties: integer (nullable = true)\n",
      " |-- mentality_composure: string (nullable = true)\n",
      " |-- defending_marking_awareness: integer (nullable = true)\n",
      " |-- defending_standing_tackle: integer (nullable = true)\n",
      " |-- defending_sliding_tackle: integer (nullable = true)\n",
      " |-- goalkeeping_diving: integer (nullable = true)\n",
      " |-- goalkeeping_handling: integer (nullable = true)\n",
      " |-- goalkeeping_kicking: integer (nullable = true)\n",
      " |-- goalkeeping_positioning: integer (nullable = true)\n",
      " |-- goalkeeping_reflexes: integer (nullable = true)\n",
      " |-- goalkeeping_speed: integer (nullable = true)\n",
      " |-- ls: string (nullable = true)\n",
      " |-- st: string (nullable = true)\n",
      " |-- rs: string (nullable = true)\n",
      " |-- lw: string (nullable = true)\n",
      " |-- lf: string (nullable = true)\n",
      " |-- cf: string (nullable = true)\n",
      " |-- rf: string (nullable = true)\n",
      " |-- rw: string (nullable = true)\n",
      " |-- lam: string (nullable = true)\n",
      " |-- cam: string (nullable = true)\n",
      " |-- ram: string (nullable = true)\n",
      " |-- lm: string (nullable = true)\n",
      " |-- lcm: string (nullable = true)\n",
      " |-- cm: string (nullable = true)\n",
      " |-- rcm: string (nullable = true)\n",
      " |-- rm: string (nullable = true)\n",
      " |-- lwb: string (nullable = true)\n",
      " |-- ldm: string (nullable = true)\n",
      " |-- cdm: string (nullable = true)\n",
      " |-- rdm: string (nullable = true)\n",
      " |-- rwb: string (nullable = true)\n",
      " |-- lb: string (nullable = true)\n",
      " |-- lcb: string (nullable = true)\n",
      " |-- cb: string (nullable = true)\n",
      " |-- rcb: string (nullable = true)\n",
      " |-- rb: string (nullable = true)\n",
      " |-- gk: string (nullable = true)\n",
      " |-- player_face_url: string (nullable = true)\n",
      " |-- club_logo_url: string (nullable = true)\n",
      " |-- club_flag_url: string (nullable = true)\n",
      " |-- nation_logo_url: string (nullable = true)\n",
      " |-- nation_flag_url: string (nullable = true)\n",
      " |-- year: integer (nullable = false)\n",
      " |-- gender: string (nullable = false)\n",
      "\n"
     ]
    }
   ],
   "source": [
    "import os\n",
    "\n",
    "csv_files = [f for f in os.listdir(\"/Users/ccy/Documents/CMU/Fall2024/Systems and tool chains/HW/Course project/FIFA\") if f.endswith(\".csv\")]\n",
    "df = None\n",
    "for file in csv_files:\n",
    "    file_path = os.path.join(\"/Users/ccy/Documents/CMU/Fall2024/Systems and tool chains/HW/Course project/FIFA\", file)\n",
    "    temp_df = spark.read.csv(file_path, header=True, inferSchema=True)\n",
    "    temp_df = temp_df.withColumn('year', F.lit(get_the_year(file)))\n",
    "    temp_df = temp_df.withColumn('gender', F.lit(get_the_gender(file)))\n",
    "    if df is None:\n",
    "        df = temp_df\n",
    "    else:\n",
    "        df = df.union(temp_df)\n",
    "df.printSchema()"
   ]
  },
  {
   "cell_type": "code",
   "execution_count": 8,
   "metadata": {},
   "outputs": [
    {
     "name": "stderr",
     "output_type": "stream",
     "text": [
      "24/10/10 22:19:01 WARN SparkStringUtils: Truncated the string representation of a plan since it was too large. This behavior can be adjusted by setting 'spark.sql.debug.maxToStringFields'.\n"
     ]
    },
    {
     "name": "stdout",
     "output_type": "stream",
     "text": [
      "+---------+--------------------+-----------------+--------------------+----------------+-------+---------+---------+--------+---+----------+---------+---------+------------+-------------------+--------------------+------------+-------------+------------------+----------------+-----------+-------------------------+--------------+----------------+--------------+---------------+--------------------+--------------+---------+-----------+------------------------+-----------+---------+---------+------------------+--------------------+--------------------+----+--------+-------+---------+---------+------+------------------+-------------------+--------------------------+-----------------------+-----------------+---------------+-----------+-----------------+------------------+------------------+---------------------+---------------------+----------------+------------------+----------------+----------------+-------------+-------------+--------------+----------------+--------------------+-----------------------+---------------------+----------------+-------------------+-------------------+---------------------------+-------------------------+------------------------+------------------+--------------------+-------------------+-----------------------+--------------------+-----------------+----+----+----+---+---+---+---+---+----+----+----+----+----+----+----+----+----+----+----+----+----+----+----+----+----+----+----+--------------------+--------------------+--------------------+--------------------+--------------------+----+------+\n",
      "|sofifa_id|          player_url|       short_name|           long_name|player_positions|overall|potential|value_eur|wage_eur|age|       dob|height_cm|weight_kg|club_team_id|          club_name|         league_name|league_level|club_position|club_jersey_number|club_loaned_from|club_joined|club_contract_valid_until|nationality_id|nationality_name|nation_team_id|nation_position|nation_jersey_number|preferred_foot|weak_foot|skill_moves|international_reputation|  work_rate|body_type|real_face|release_clause_eur|         player_tags|       player_traits|pace|shooting|passing|dribbling|defending|physic|attacking_crossing|attacking_finishing|attacking_heading_accuracy|attacking_short_passing|attacking_volleys|skill_dribbling|skill_curve|skill_fk_accuracy|skill_long_passing|skill_ball_control|movement_acceleration|movement_sprint_speed|movement_agility|movement_reactions|movement_balance|power_shot_power|power_jumping|power_stamina|power_strength|power_long_shots|mentality_aggression|mentality_interceptions|mentality_positioning|mentality_vision|mentality_penalties|mentality_composure|defending_marking_awareness|defending_standing_tackle|defending_sliding_tackle|goalkeeping_diving|goalkeeping_handling|goalkeeping_kicking|goalkeeping_positioning|goalkeeping_reflexes|goalkeeping_speed|  ls|  st|  rs| lw| lf| cf| rf| rw| lam| cam| ram|  lm| lcm|  cm| rcm|  rm| lwb| ldm| cdm| rdm| rwb|  lb| lcb|  cb| rcb|  rb|  gk|     player_face_url|       club_logo_url|       club_flag_url|     nation_logo_url|     nation_flag_url|year|gender|\n",
      "+---------+--------------------+-----------------+--------------------+----------------+-------+---------+---------+--------+---+----------+---------+---------+------------+-------------------+--------------------+------------+-------------+------------------+----------------+-----------+-------------------------+--------------+----------------+--------------+---------------+--------------------+--------------+---------+-----------+------------------------+-----------+---------+---------+------------------+--------------------+--------------------+----+--------+-------+---------+---------+------+------------------+-------------------+--------------------------+-----------------------+-----------------+---------------+-----------+-----------------+------------------+------------------+---------------------+---------------------+----------------+------------------+----------------+----------------+-------------+-------------+--------------+----------------+--------------------+-----------------------+---------------------+----------------+-------------------+-------------------+---------------------------+-------------------------+------------------------+------------------+--------------------+-------------------+-----------------------+--------------------+-----------------+----+----+----+---+---+---+---+---+----+----+----+----+----+----+----+----+----+----+----+----+----+----+----+----+----+----+----+--------------------+--------------------+--------------------+--------------------+--------------------+----+------+\n",
      "|   158023|https://sofifa.co...|         L. Messi|Lionel Andrés Mes...|      RW, ST, CF|     93|       93|    7.8E7|320000.0| 34|1987-06-24|      170|       72|        73.0|Paris Saint-Germain|      French Ligue 1|           1|           RW|                30|            NULL| 2021-08-10|                     2023|            52|       Argentina|        1369.0|             RW|                  10|          Left|        4|          4|                       5| Medium/Low|   Unique|      Yes|         144300000|#Dribbler, #Dista...|Finesse Shot, Lon...|  85|      92|     91|       95|       34|    65|                85|                 95|                        70|                     91|               88|             96|         93|               94|                91|                96|                   91|                   80|              91|                94|              95|              86|           68|           72|            69|              94|                  44|                     40|                   93|              95|                 75|                 96|                         20|                       35|                      24|                 6|                  11|                 15|                     14|                   8|             NULL|89+3|89+3|89+3| 92| 93| 93| 93| 92|  93|  93|  93|91+2|87+3|87+3|87+3|91+2|66+3|64+3|64+3|64+3|66+3|61+3|50+3|50+3|50+3|61+3|19+3|https://cdn.sofif...|https://cdn.sofif...|https://cdn.sofif...|https://cdn.sofif...|https://cdn.sofif...|2022|     M|\n",
      "|   188545|https://sofifa.co...|   R. Lewandowski|  Robert Lewandowski|              ST|     92|       92|  1.195E8|270000.0| 32|1988-08-21|      185|       81|        21.0|  FC Bayern München|German 1. Bundesliga|           1|           ST|                 9|            NULL| 2014-07-01|                     2023|            37|          Poland|        1353.0|             RS|                   9|         Right|        4|          4|                       5|High/Medium|   Unique|      Yes|         197200000|#Aerial Threat, #...|Solid Player, Fin...|  78|      92|     79|       86|       44|    82|                71|                 95|                        90|                     85|               89|             85|         79|               85|                70|                88|                   77|                   79|              77|                93|              82|              90|           85|           76|            86|              87|                  81|                     49|                   95|              81|                 90|                 88|                         35|                       42|                      19|                15|                   6|                 12|                      8|                  10|             NULL|90+2|90+2|90+2| 85| 88| 88| 88| 85|86+3|86+3|86+3|84+3|80+3|80+3|80+3|84+3|64+3|66+3|66+3|66+3|64+3|61+3|60+3|60+3|60+3|61+3|19+3|https://cdn.sofif...|https://cdn.sofif...|https://cdn.sofif...|https://cdn.sofif...|https://cdn.sofif...|2022|     M|\n",
      "|    20801|https://sofifa.co...|Cristiano Ronaldo|Cristiano Ronaldo...|          ST, LW|     91|       91|    4.5E7|270000.0| 36|1985-02-05|      187|       83|        11.0|  Manchester United|English Premier L...|           1|           ST|                 7|            NULL| 2021-08-27|                     2023|            38|        Portugal|        1354.0|             ST|                   7|         Right|        4|          5|                       5|   High/Low|   Unique|      Yes|          83300000|#Aerial Threat, #...|Power Free-Kick, ...|  87|      94|     80|       88|       34|    75|                87|                 95|                        90|                     80|               86|             88|         81|               84|                77|                88|                   85|                   88|              86|                94|              74|              94|           95|           77|            77|              93|                  63|                     29|                   95|              76|                 88|                 95|                         24|                       32|                      24|                 7|                  11|                 15|                     14|                  11|             NULL|90+1|90+1|90+1| 88| 89| 89| 89| 88|86+3|86+3|86+3|86+3|78+3|78+3|78+3|86+3|63+3|59+3|59+3|59+3|63+3|60+3|53+3|53+3|53+3|60+3|20+3|https://cdn.sofif...|https://cdn.sofif...|https://cdn.sofif...|https://cdn.sofif...|https://cdn.sofif...|2022|     M|\n",
      "|   190871|https://sofifa.co...|        Neymar Jr|Neymar da Silva S...|         LW, CAM|     91|       91|   1.29E8|270000.0| 29|1992-02-05|      175|       68|        73.0|Paris Saint-Germain|      French Ligue 1|           1|           LW|                10|            NULL| 2017-08-03|                     2025|            54|          Brazil|          NULL|           NULL|                NULL|         Right|        5|          5|                       5|High/Medium|   Unique|      Yes|         238700000|#Speedster, #Drib...|Injury Prone, Fla...|  91|      83|     86|       94|       37|    63|                85|                 83|                        63|                     86|               86|             95|         88|               87|                81|                95|                   93|                   89|              96|                89|              84|              80|           64|           81|            53|              81|                  63|                     37|                   86|              90|                 93|                 93|                         35|                       32|                      29|                 9|                   9|                 15|                     15|                  11|             NULL|83+3|83+3|83+3| 90| 88| 88| 88| 90|89+2|89+2|89+2|89+2|82+3|82+3|82+3|89+2|67+3|63+3|63+3|63+3|67+3|62+3|50+3|50+3|50+3|62+3|20+3|https://cdn.sofif...|https://cdn.sofif...|https://cdn.sofif...|                NULL|https://cdn.sofif...|2022|     M|\n",
      "|   192985|https://sofifa.co...|     K. De Bruyne|     Kevin De Bruyne|         CM, CAM|     91|       91|  1.255E8|350000.0| 30|1991-06-28|      181|       70|        10.0|    Manchester City|English Premier L...|           1|          RCM|                17|            NULL| 2015-08-30|                     2025|             7|         Belgium|        1325.0|            RCM|                   7|         Right|        5|          4|                       4|  High/High|   Unique|      Yes|         232200000|#Dribbler, #Playm...|Injury Prone, Lea...|  76|      86|     93|       88|       64|    78|                94|                 82|                        55|                     94|               82|             88|         85|               83|                93|                91|                   76|                   76|              79|                91|              78|              91|           63|           89|            74|              91|                  76|                     66|                   88|              94|                 83|                 89|                         68|                       65|                      53|                15|                  13|                  5|                     10|                  13|             NULL|83+3|83+3|83+3| 88| 87| 87| 87| 88|89+2|89+2|89+2|89+2|89+2|89+2|89+2|89+2|79+3|80+3|80+3|80+3|79+3|75+3|69+3|69+3|69+3|75+3|21+3|https://cdn.sofif...|https://cdn.sofif...|https://cdn.sofif...|https://cdn.sofif...|https://cdn.sofif...|2022|     M|\n",
      "+---------+--------------------+-----------------+--------------------+----------------+-------+---------+---------+--------+---+----------+---------+---------+------------+-------------------+--------------------+------------+-------------+------------------+----------------+-----------+-------------------------+--------------+----------------+--------------+---------------+--------------------+--------------+---------+-----------+------------------------+-----------+---------+---------+------------------+--------------------+--------------------+----+--------+-------+---------+---------+------+------------------+-------------------+--------------------------+-----------------------+-----------------+---------------+-----------+-----------------+------------------+------------------+---------------------+---------------------+----------------+------------------+----------------+----------------+-------------+-------------+--------------+----------------+--------------------+-----------------------+---------------------+----------------+-------------------+-------------------+---------------------------+-------------------------+------------------------+------------------+--------------------+-------------------+-----------------------+--------------------+-----------------+----+----+----+---+---+---+---+---+----+----+----+----+----+----+----+----+----+----+----+----+----+----+----+----+----+----+----+--------------------+--------------------+--------------------+--------------------+--------------------+----+------+\n",
      "only showing top 5 rows\n",
      "\n"
     ]
    }
   ],
   "source": [
    "df.show(5)"
   ]
  },
  {
   "cell_type": "markdown",
   "metadata": {},
   "source": [
    "#### Write the table into Postgres Table"
   ]
  },
  {
   "cell_type": "code",
   "execution_count": 9,
   "metadata": {},
   "outputs": [
    {
     "name": "stderr",
     "output_type": "stream",
     "text": [
      "                                                                                \r"
     ]
    }
   ],
   "source": [
    "url = \"jdbc:postgresql://localhost:5432/postgres\"\n",
    "properties = {\n",
    "    \"user\": \"postgres\",\n",
    "    \"password\": \"\",\n",
    "    \"driver\": \"org.postgresql.Driver\"\n",
    "}\n",
    "df.write.jdbc(url=url, table=\"fifa.players\", mode=\"overwrite\", properties=properties)"
   ]
  },
  {
   "cell_type": "markdown",
   "metadata": {},
   "source": [
    "## Task2"
   ]
  },
  {
   "cell_type": "markdown",
   "metadata": {},
   "source": [
    "#### Read back the table from Postgres"
   ]
  },
  {
   "cell_type": "code",
   "execution_count": 10,
   "metadata": {},
   "outputs": [
    {
     "name": "stderr",
     "output_type": "stream",
     "text": [
      "[Stage 32:>                                                         (0 + 1) / 1]\r"
     ]
    },
    {
     "name": "stdout",
     "output_type": "stream",
     "text": [
      "+---------+--------------------+-----------+-------------+----------------+-------+---------+---------+--------+---+----------+---------+---------+------------+--------------------+--------------------+------------+-------------+------------------+----------------+-----------+-------------------------+--------------+----------------+--------------+---------------+--------------------+--------------+---------+-----------+------------------------+-------------+--------------+---------+------------------+-----------+--------------------+----+--------+-------+---------+---------+------+------------------+-------------------+--------------------------+-----------------------+-----------------+---------------+-----------+-----------------+------------------+------------------+---------------------+---------------------+----------------+------------------+----------------+----------------+-------------+-------------+--------------+----------------+--------------------+-----------------------+---------------------+----------------+-------------------+-------------------+---------------------------+-------------------------+------------------------+------------------+--------------------+-------------------+-----------------------+--------------------+-----------------+----+----+----+---+---+---+---+---+----+----+----+----+----+----+----+----+----+----+----+----+----+----+----+----+----+----+----+--------------------+--------------------+--------------------+---------------+--------------------+----+------+\n",
      "|sofifa_id|          player_url| short_name|    long_name|player_positions|overall|potential|value_eur|wage_eur|age|       dob|height_cm|weight_kg|club_team_id|           club_name|         league_name|league_level|club_position|club_jersey_number|club_loaned_from|club_joined|club_contract_valid_until|nationality_id|nationality_name|nation_team_id|nation_position|nation_jersey_number|preferred_foot|weak_foot|skill_moves|international_reputation|    work_rate|     body_type|real_face|release_clause_eur|player_tags|       player_traits|pace|shooting|passing|dribbling|defending|physic|attacking_crossing|attacking_finishing|attacking_heading_accuracy|attacking_short_passing|attacking_volleys|skill_dribbling|skill_curve|skill_fk_accuracy|skill_long_passing|skill_ball_control|movement_acceleration|movement_sprint_speed|movement_agility|movement_reactions|movement_balance|power_shot_power|power_jumping|power_stamina|power_strength|power_long_shots|mentality_aggression|mentality_interceptions|mentality_positioning|mentality_vision|mentality_penalties|mentality_composure|defending_marking_awareness|defending_standing_tackle|defending_sliding_tackle|goalkeeping_diving|goalkeeping_handling|goalkeeping_kicking|goalkeeping_positioning|goalkeeping_reflexes|goalkeeping_speed|  ls|  st|  rs| lw| lf| cf| rf| rw| lam| cam| ram|  lm| lcm|  cm| rcm|  rm| lwb| ldm| cdm| rdm| rwb|  lb| lcb|  cb| rcb|  rb|  gk|     player_face_url|       club_logo_url|       club_flag_url|nation_logo_url|     nation_flag_url|year|gender|\n",
      "+---------+--------------------+-----------+-------------+----------------+-------+---------+---------+--------+---+----------+---------+---------+------------+--------------------+--------------------+------------+-------------+------------------+----------------+-----------+-------------------------+--------------+----------------+--------------+---------------+--------------------+--------------+---------+-----------+------------------------+-------------+--------------+---------+------------------+-----------+--------------------+----+--------+-------+---------+---------+------+------------------+-------------------+--------------------------+-----------------------+-----------------+---------------+-----------+-----------------+------------------+------------------+---------------------+---------------------+----------------+------------------+----------------+----------------+-------------+-------------+--------------+----------------+--------------------+-----------------------+---------------------+----------------+-------------------+-------------------+---------------------------+-------------------------+------------------------+------------------+--------------------+-------------------+-----------------------+--------------------+-----------------+----+----+----+---+---+---+---+---+----+----+----+----+----+----+----+----+----+----+----+----+----+----+----+----+----+----+----+--------------------+--------------------+--------------------+---------------+--------------------+----+------+\n",
      "|   262668|https://sofifa.co...| J. Makengo|Jordy Makengo|              CB|     56|       70| 325000.0|   500.0| 19|2001-08-03|      183|       75|    110691.0|      SC Freiburg II|German 3. Bundesliga|           3|          RES|                34|            NULL| 2021-07-01|                     2025|            18|          France|          NULL|           NULL|                NULL|         Right|        3|          2|                       1|Medium/Medium|Lean (170-185)|       No|            674000|       NULL|                NULL|  62|      20|     35|       42|       56|    62|                30|                 18|                        50|                     43|               15|             35|         26|               28|                35|                40|                   60|                   64|              61|                50|              62|              23|           75|           58|            65|              21|                  57|                     52|                   26|              29|                 29|                 42|                         55|                       59|                      60|                11|                  14|                 13|                     14|                   6|             NULL|36+2|36+2|36+2| 38| 36| 36| 36| 38|37+2|37+2|37+2|40+2|39+2|39+2|39+2|40+2|50+2|49+2|49+2|49+2|50+2|52+2|56+2|56+2|56+2|52+2|16+2|https://cdn.sofif...|https://cdn.sofif...|https://cdn.sofif...|           NULL|https://cdn.sofif...|2022|     M|\n",
      "|   262697|https://sofifa.co...|   M. Vasiľ| Marcel Vasiľ|             CAM|     56|       70| 350000.0|  1000.0| 20|2001-02-09|      182|       71|    112510.0|Bruk-Bet Termalic...|Polish T-Mobile E...|           1|          RES|                80|            NULL| 2021-02-01|                     2023|            43|        Slovakia|          NULL|           NULL|                NULL|         Right|        3|          2|                       1|Medium/Medium|Lean (170-185)|       No|            691000|       NULL|                NULL|  64|      51|     56|       58|       30|    46|                47|                 42|                        32|                     61|               42|             59|         63|               48|                56|                55|                   64|                   64|              69|                42|              64|              61|           55|           40|            50|              62|                  42|                     21|                   48|              57|                 53|                 53|                         33|                       32|                      35|                 6|                   9|                 15|                      6|                  10|             NULL|50+2|50+2|50+2| 55| 54| 54| 54| 55|56+2|56+2|56+2|54+2|52+2|52+2|52+2|54+2|44+2|43+2|43+2|43+2|44+2|41+2|38+2|38+2|38+2|41+2|12+2|https://cdn.sofif...|https://cdn.sofif...|https://cdn.sofif...|           NULL|https://cdn.sofif...|2022|     M|\n",
      "|   262719|https://sofifa.co...|   M. Cioiu| Marius Cioiu|         RM, CAM|     56|       64| 325000.0|   950.0| 21|1999-11-01|      175|       70|    113391.0|FC Academica Clin...|     Romanian Liga I|           1|           RM|                24|            NULL| 2021-05-18|                     2024|            39|         Romania|          NULL|           NULL|                NULL|         Right|        3|          3|                       1|Medium/Medium|Lean (170-185)|       No|            504000|       NULL|Finesse Shot, Tec...|  69|      53|     53|       58|       44|    51|                56|                 53|                        43|                     53|               47|             58|         49|               52|                50|                55|                   71|                   68|              70|                42|              73|              55|           40|           57|            50|              51|                  47|                     44|                   47|              51|                 56|                 43|                         46|                       45|                      40|                 6|                   7|                  8|                     10|                  11|             NULL|52+2|52+2|52+2| 56| 54| 54| 54| 56|54+2|54+2|54+2|55+2|51+2|51+2|51+2|55+2|51+2|48+2|48+2|48+2|51+2|50+2|46+2|46+2|46+2|50+2|12+2|https://cdn.sofif...|https://cdn.sofif...|https://cdn.sofif...|           NULL|https://cdn.sofif...|2022|     M|\n",
      "|   262722|https://sofifa.co...|  H. Bility|Hosine Bility|              CB|     56|       66| 300000.0|  3000.0| 20|2001-05-10|      190|       87|      1516.0|      FC Midtjylland|    Danish Superliga|           1|          RES|                50|            NULL| 2021-07-01|                     2024|           195|       Australia|          NULL|           NULL|                NULL|         Right|        3|          2|                       1|Medium/Medium| Normal (185+)|       No|            450000|       NULL|                NULL|  58|      25|     36|       36|       53|    69|                29|                 20|                        60|                     45|               30|             25|         27|               31|                40|                42|                   57|                   59|              49|                50|              46|              40|           65|           54|            78|              18|                  65|                     50|                   24|              27|                 32|                 44|                         52|                       55|                      52|                14|                  10|                 10|                     13|                   6|             NULL|39+2|39+2|39+2| 36| 36| 36| 36| 36|36+2|36+2|36+2|38+2|39+2|39+2|39+2|38+2|47+2|50+2|50+2|50+2|47+2|50+2|56+2|56+2|56+2|50+2|15+2|https://cdn.sofif...|https://cdn.sofif...|https://cdn.sofif...|           NULL|https://cdn.sofif...|2022|     M|\n",
      "|   262830|https://sofifa.co...|T. Saunders| Tor Saunders|              GK|     56|       63| 240000.0|   850.0| 23|1998-04-30|      196|       97|    114162.0|        Nashville SC|USA Major League ...|           1|          RES|                28|            NULL| 2021-01-21|                     2021|            95|   United States|          NULL|           NULL|                NULL|         Right|        2|          1|                       1|Medium/Medium| Normal (185+)|       No|            396000|       NULL|                NULL|NULL|    NULL|   NULL|     NULL|     NULL|  NULL|                11|                  6|                        12|                     21|                5|              8|         14|               13|                27|                16|                   20|                   29|              36|                49|              22|              41|           39|           22|            70|               9|                  23|                      9|                    6|              32|                 19|                 31|                          7|                       11|                      11|                57|                  53|                 54|                     55|                  60|               24|20+2|20+2|20+2| 17| 19| 19| 19| 17|20+2|20+2|20+2|19+2|21+2|21+2|21+2|19+2|17+2|21+2|21+2|21+2|17+2|17+2|21+2|21+2|21+2|17+2|55+2|https://cdn.sofif...|https://cdn.sofif...|https://cdn.sofif...|           NULL|https://cdn.sofif...|2022|     M|\n",
      "+---------+--------------------+-----------+-------------+----------------+-------+---------+---------+--------+---+----------+---------+---------+------------+--------------------+--------------------+------------+-------------+------------------+----------------+-----------+-------------------------+--------------+----------------+--------------+---------------+--------------------+--------------+---------+-----------+------------------------+-------------+--------------+---------+------------------+-----------+--------------------+----+--------+-------+---------+---------+------+------------------+-------------------+--------------------------+-----------------------+-----------------+---------------+-----------+-----------------+------------------+------------------+---------------------+---------------------+----------------+------------------+----------------+----------------+-------------+-------------+--------------+----------------+--------------------+-----------------------+---------------------+----------------+-------------------+-------------------+---------------------------+-------------------------+------------------------+------------------+--------------------+-------------------+-----------------------+--------------------+-----------------+----+----+----+---+---+---+---+---+----+----+----+----+----+----+----+----+----+----+----+----+----+----+----+----+----+----+----+--------------------+--------------------+--------------------+---------------+--------------------+----+------+\n",
      "only showing top 5 rows\n",
      "\n"
     ]
    },
    {
     "name": "stderr",
     "output_type": "stream",
     "text": [
      "                                                                                \r"
     ]
    }
   ],
   "source": [
    "players_df = spark.read.jdbc(url = url,table='fifa.players',properties = properties)\n",
    "players_df.show(5)"
   ]
  },
  {
   "cell_type": "markdown",
   "metadata": {},
   "source": [
    "#### 2-1 Analyzing Top Clubs Based on Contract Durations"
   ]
  },
  {
   "cell_type": "code",
   "execution_count": 11,
   "metadata": {},
   "outputs": [],
   "source": [
    "def highest_contract_players(year_x, y_clubs, year_z):\n",
    "    # load the male data from the players_df\n",
    "    male_data = players_df.filter(F.col('gender') == 'M')\n",
    "\n",
    "    # convert the club_joined (yyyy-MM--dd) column from string into date format\n",
    "    male_data = male_data.withColumn('club_join_date', F.to_date('club_joined', 'yyyy-MM-dd')) # convert to dat format and store it in new column\n",
    "    male_data = male_data.drop('club_joined') # drop the old column\n",
    "    male_data = male_data.withColumnRenamed('club_join_date', 'club_joined') # rename the new column to old name.\n",
    "\n",
    "    # create a new column to store the year of club_join (yyyy)\n",
    "    male_data = male_data.withColumn('club_joined_year', F.year('club_joined'))\n",
    "\n",
    "    # convert the \"club_contract_valid_until\" from string into int format\n",
    "    male_data = male_data.withColumn('club_contract_valid_until_int', F.col('club_contract_valid_until').cast('int'))\n",
    "    male_data = male_data.drop('club_contract_valid_until')\n",
    "    male_data = male_data.withColumnRenamed('club_contract_valid_until_int', 'club_contract_valid_until')\n",
    "\n",
    "    # filter out the data that are not in the given period\n",
    "    filtered_df = male_data.filter(((F.col('club_contract_valid_until') >= year_z) & (F.col('club_joined_year') <= year_x)))\n",
    "    distinct_filtered_df = filtered_df.dropDuplicates(['sofifa_id', 'long_name']) # remove duplicates\n",
    "\n",
    "\n",
    "    # group the data by the club_name and count the number of contract\n",
    "    club_df = distinct_filtered_df.groupBy('club_name').agg(F.count('*').alias('players_count'))\n",
    "    club_df.orderBy(F.col('players_count').desc()).limit(y_clubs).show()"
   ]
  },
  {
   "cell_type": "code",
   "execution_count": 12,
   "metadata": {},
   "outputs": [
    {
     "name": "stdout",
     "output_type": "stream",
     "text": [
      "+--------------------+-------------+\n",
      "|           club_name|players_count|\n",
      "+--------------------+-------------+\n",
      "|            FC Seoul|           19|\n",
      "|         Dynamo Kyiv|           19|\n",
      "|   Alianza Petrolera|           17|\n",
      "|      Deportivo Cali|           17|\n",
      "|Jaguares de Córdo...|           17|\n",
      "+--------------------+-------------+\n",
      "\n"
     ]
    }
   ],
   "source": [
    "highest_contract_players(2017,5,2023)"
   ]
  },
  {
   "cell_type": "markdown",
   "metadata": {},
   "source": [
    "#### 2-2 Analyzing Top Clubs Based on Player Age for Specific Years"
   ]
  },
  {
   "cell_type": "code",
   "execution_count": 16,
   "metadata": {},
   "outputs": [],
   "source": [
    "def average_age_clubs(num_clubs, year_y, highest=True):\n",
    "    # # load the male data from the players_df\n",
    "    male_data = players_df.filter(F.col('gender') == 'M')\n",
    "\n",
    "    # filter out years are not in the given year\n",
    "    filtered_df = male_data.filter(F.col('year') == year_y)\n",
    "\n",
    "    # group the dataframe by club_name and calculate by average age\n",
    "    club_avg_age = filtered_df.groupBy('club_name').agg(F.avg(F.col('age')).alias('avg_age'))\n",
    "\n",
    "    # check if num_clubs is a positive number. If not, set highest to False and make num_clubs positive.\n",
    "    if num_clubs < 0:\n",
    "        highest = False\n",
    "        num_clubs = abs(num_clubs) # make num_clubs positive if it is negative.\n",
    "    elif num_clubs == 0:\n",
    "        print(\"No clubs available in the given year.\")\n",
    "        return \"No clubs available in the given year.\"\n",
    "\n",
    "    # show the oldest club_name or the youngest club_name\n",
    "    if highest == True:\n",
    "        top_old_club = club_avg_age.orderBy(F.col('avg_age').desc()).limit(num_clubs) # sort the club_avg_age df by average age in descending order\n",
    "        least_oldest_avg_age = top_old_club.collect()[-1]['avg_age'] # find the least oldest average age in the top n selected rank.)\n",
    "        final_top_old_club = club_avg_age.filter(F.col('avg_age') >= least_oldest_avg_age) # select all the club that have the average age older than the least average age.\n",
    "        final_top_old_club.orderBy(F.col('avg_age').desc()).show()\n",
    "\n",
    "    else:\n",
    "        top_young_club = club_avg_age.orderBy(F.col('avg_age').asc()).limit(num_clubs)\n",
    "        least_youngest_avg_age = top_young_club.collect()[-1]['avg_age']\n",
    "        final_top_young_club = club_avg_age.filter(F.col('avg_age') <= least_youngest_avg_age)\n",
    "        final_top_young_club.orderBy(F.col('avg_age').asc()).show()"
   ]
  },
  {
   "cell_type": "code",
   "execution_count": 18,
   "metadata": {},
   "outputs": [
    {
     "name": "stdout",
     "output_type": "stream",
     "text": [
      "+--------------------+------------------+\n",
      "|           club_name|           avg_age|\n",
      "+--------------------+------------------+\n",
      "|      Ventforet Kofu|29.392857142857142|\n",
      "|América Futebol C...|              29.2|\n",
      "|Club Athletico Pa...|              29.0|\n",
      "|Sport Club do Recife|              29.0|\n",
      "|            Criciúma|              29.0|\n",
      "|             Vitória|              29.0|\n",
      "+--------------------+------------------+\n",
      "\n",
      "+----------------+------------------+\n",
      "|       club_name|           avg_age|\n",
      "+----------------+------------------+\n",
      "|Sevilla Atlético|19.923076923076923|\n",
      "|    Swindon Town| 21.37037037037037|\n",
      "|   CD Huachipato| 21.40740740740741|\n",
      "| FC Nordsjælland| 21.40740740740741|\n",
      "|       FC Twente|21.586206896551722|\n",
      "+----------------+------------------+\n",
      "\n"
     ]
    }
   ],
   "source": [
    "average_age_clubs(5, 2017, highest=True)\n",
    "average_age_clubs(5, 2017, highest=False)"
   ]
  },
  {
   "cell_type": "markdown",
   "metadata": {},
   "source": [
    "#### 2-3 What is the most popular nationality in the dataset for each year?\n"
   ]
  },
  {
   "cell_type": "code",
   "execution_count": 15,
   "metadata": {},
   "outputs": [
    {
     "name": "stdout",
     "output_type": "stream",
     "text": [
      "+----+----------------+-----------------+\n",
      "|year|nationality_name|nationality_count|\n",
      "+----+----------------+-----------------+\n",
      "|2015|         England|             1627|\n",
      "|2016|         England|             1519|\n",
      "|2017|         England|             1627|\n",
      "|2018|         England|             1633|\n",
      "|2019|         England|             1625|\n",
      "|2020|         England|             1670|\n",
      "|2021|         England|             1685|\n",
      "|2022|         England|             1719|\n",
      "+----+----------------+-----------------+\n",
      "\n"
     ]
    }
   ],
   "source": [
    "from pyspark.sql import Window\n",
    "\n",
    "male_df = players_df.filter(F.col('gender') == 'M')\n",
    "# Group by 'year' and 'nationality_name' and count occurrences\n",
    "nationality_year_counts_df = male_df.groupBy('year', 'nationality_name') \\\n",
    "    .agg(F.count('*').alias('nationality_count'))\n",
    "\n",
    "# Define a window partitioned by 'year' and ordered by 'nationality_count' in descending order\n",
    "window_spec = Window.partitionBy('year').orderBy(F.desc('nationality_count'))\n",
    "\n",
    "# Add a rank to each row within the window\n",
    "nationality_year_counts_df = nationality_year_counts_df \\\n",
    "    .withColumn('rank', F.row_number().over(window_spec))\n",
    "\n",
    "# Filter to get the top nationality per year\n",
    "top_nationalities_df = nationality_year_counts_df \\\n",
    "    .filter(F.col('rank') == 1) \\\n",
    "    .select('year', 'nationality_name', 'nationality_count')\n",
    "\n",
    "# Display the result\n",
    "top_nationalities_df.show()\n"
   ]
  },
  {
   "cell_type": "code",
   "execution_count": 19,
   "metadata": {},
   "outputs": [
    {
     "name": "stdout",
     "output_type": "stream",
     "text": [
      "+----+----------------+-----------------+----+\n",
      "|year|nationality_name|nationality_count|rank|\n",
      "+----+----------------+-----------------+----+\n",
      "|2020|         England|             1670|   1|\n",
      "|2020|         Germany|             1218|   2|\n",
      "|2020|           Spain|             1045|   3|\n",
      "|2020|          France|             1004|   4|\n",
      "|2020|       Argentina|              886|   5|\n",
      "+----+----------------+-----------------+----+\n",
      "only showing top 5 rows\n",
      "\n"
     ]
    }
   ],
   "source": [
    "nationality_year_counts_df.filter(F.col('year') == 2020).show(5)"
   ]
  }
 ],
 "metadata": {
  "kernelspec": {
   "display_name": "SYS_HW",
   "language": "python",
   "name": "python3"
  },
  "language_info": {
   "codemirror_mode": {
    "name": "ipython",
    "version": 3
   },
   "file_extension": ".py",
   "mimetype": "text/x-python",
   "name": "python",
   "nbconvert_exporter": "python",
   "pygments_lexer": "ipython3",
   "version": "3.8.19"
  }
 },
 "nbformat": 4,
 "nbformat_minor": 4
}
